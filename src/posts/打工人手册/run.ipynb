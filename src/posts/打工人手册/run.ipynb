{
 "cells": [
  {
   "cell_type": "code",
   "execution_count": 4,
   "metadata": {},
   "outputs": [
    {
     "name": "stderr",
     "output_type": "stream",
     "text": [
      "Exception managing chrome: error sending request for url (https://googlechromelabs.github.io/chrome-for-testing/known-good-versions-with-downloads.json)\n"
     ]
    }
   ],
   "source": [
    "from selenium import webdriver\n",
    "from selenium.webdriver.common.by import By\n",
    "from selenium.webdriver.chrome.options import Options\n",
    "\n",
    "chrome_options = Options()\n",
    "chrome_options.add_argument(\"--user-data-dir=D:\\my\")\n",
    "browser = webdriver.Chrome(chrome_options)\n",
    "browser.get('https://www.xiaohongshu.com/user/profile/60460e150000000001001ed4')"
   ]
  },
  {
   "cell_type": "code",
   "execution_count": 5,
   "metadata": {},
   "outputs": [
    {
     "data": {
      "text/plain": [
       "327.05000000000007"
      ]
     },
     "execution_count": 5,
     "metadata": {},
     "output_type": "execute_result"
    },
    {
     "ename": "",
     "evalue": "",
     "output_type": "error",
     "traceback": [
      "\u001b[1;31mThe Kernel crashed while executing code in the current cell or a previous cell. \n",
      "\u001b[1;31mPlease review the code in the cell(s) to identify a possible cause of the failure. \n",
      "\u001b[1;31mClick <a href='https://aka.ms/vscodeJupyterKernelCrash'>here</a> for more info. \n",
      "\u001b[1;31mView Jupyter <a href='command:jupyter.viewOutput'>log</a> for further details."
     ]
    }
   ],
   "source": [
    "77.79 + 57.93 + 21.71 + 5.97 + 6.05 + 18.19 + 40.59 + 13.43 + 6.05 + 24.67 + 29.57 + 25.10"
   ]
  },
  {
   "cell_type": "code",
   "execution_count": 31,
   "metadata": {},
   "outputs": [
    {
     "name": "stdout",
     "output_type": "stream",
     "text": [
      "当前工作目录: D:\\my\\ZGarry.github.io\\src\\posts\n",
      "https://www.xiaohongshu.com/user/profile/60460e150000000001001ed4/63f8807f0000000027010b85?xsec_token=ABxnThDVsbjJMu3RVgaSfUWbN9Br8u8e1KODJfMXpgg_Y=&xsec_source=pc_user\n",
      "https://www.xiaohongshu.com/user/profile/60460e150000000001001ed4/6487f45e0000000012032d37?xsec_token=ABcaZNv-yLVbenIldIgP3Ud92vzcc9yt6AY_kdRhXiw9M=&xsec_source=pc_user\n",
      "https://www.xiaohongshu.com/user/profile/60460e150000000001001ed4/64660b94000000001303007b?xsec_token=ABWBR4lZLTLk5RcS0H1Ggk7rlBF3JaX6pKotwGTwvCmo4=&xsec_source=pc_user\n",
      "https://www.xiaohongshu.com/user/profile/60460e150000000001001ed4?channel_type=web_profile_page&parent_page_channel_type=web_user_board&xsec_token=&xsec_source=pc_note\n",
      "https://www.xiaohongshu.com/user/profile/60460e150000000001001ed4/64932da900000000270012f2?xsec_token=ABjUFG4S5W7pITCe2Kb3HugB_hmJptiSFJxgUy0x9wTs8=&xsec_source=pc_user\n"
     ]
    },
    {
     "ename": "FileNotFoundError",
     "evalue": "[Errno 2] No such file or directory: '点都德/上海.md'",
     "output_type": "error",
     "traceback": [
      "\u001b[1;31m---------------------------------------------------------------------------\u001b[0m",
      "\u001b[1;31mFileNotFoundError\u001b[0m                         Traceback (most recent call last)",
      "\u001b[1;32m~\\AppData\\Local\\Temp\\ipykernel_5860\\202939266.py\u001b[0m in \u001b[0;36m<module>\u001b[1;34m\u001b[0m\n\u001b[0;32m    134\u001b[0m \u001b[1;31m# li = []\u001b[0m\u001b[1;33m\u001b[0m\u001b[1;33m\u001b[0m\u001b[0m\n\u001b[0;32m    135\u001b[0m \u001b[1;32mfor\u001b[0m \u001b[0mi\u001b[0m \u001b[1;32min\u001b[0m \u001b[0mlist\u001b[0m\u001b[1;33m(\u001b[0m\u001b[0mli\u001b[0m\u001b[1;33m)\u001b[0m\u001b[1;33m:\u001b[0m\u001b[1;33m\u001b[0m\u001b[1;33m\u001b[0m\u001b[0m\n\u001b[1;32m--> 136\u001b[1;33m     \u001b[0mdownForArticle\u001b[0m\u001b[1;33m(\u001b[0m\u001b[0mi\u001b[0m\u001b[1;33m)\u001b[0m\u001b[1;33m\u001b[0m\u001b[1;33m\u001b[0m\u001b[0m\n\u001b[0m",
      "\u001b[1;32m~\\AppData\\Local\\Temp\\ipykernel_5860\\202939266.py\u001b[0m in \u001b[0;36mdownForArticle\u001b[1;34m(url)\u001b[0m\n\u001b[0;32m    114\u001b[0m     \u001b[0mmarkdown\u001b[0m \u001b[1;33m=\u001b[0m \u001b[1;34mf\"# {titles[0].text}\\n\\n {s} \\n{descs[0].text}\"\u001b[0m\u001b[1;33m\u001b[0m\u001b[1;33m\u001b[0m\u001b[0m\n\u001b[0;32m    115\u001b[0m     \u001b[1;31m# 将字符串写入同目录下的 Markdown 文件\u001b[0m\u001b[1;33m\u001b[0m\u001b[1;33m\u001b[0m\u001b[0m\n\u001b[1;32m--> 116\u001b[1;33m     \u001b[1;32mwith\u001b[0m \u001b[0mopen\u001b[0m\u001b[1;33m(\u001b[0m\u001b[1;34mf\"{titles[0].text}.md\"\u001b[0m\u001b[1;33m,\u001b[0m \u001b[1;34m\"w\"\u001b[0m\u001b[1;33m,\u001b[0m \u001b[0mencoding\u001b[0m\u001b[1;33m=\u001b[0m\u001b[1;34m\"utf-8\"\u001b[0m\u001b[1;33m)\u001b[0m \u001b[1;32mas\u001b[0m \u001b[0mf\u001b[0m\u001b[1;33m:\u001b[0m\u001b[1;33m\u001b[0m\u001b[1;33m\u001b[0m\u001b[0m\n\u001b[0m\u001b[0;32m    117\u001b[0m         \u001b[0mf\u001b[0m\u001b[1;33m.\u001b[0m\u001b[0mwrite\u001b[0m\u001b[1;33m(\u001b[0m\u001b[0mmarkdown\u001b[0m\u001b[1;33m)\u001b[0m\u001b[1;33m\u001b[0m\u001b[1;33m\u001b[0m\u001b[0m\n\u001b[0;32m    118\u001b[0m \u001b[1;33m\u001b[0m\u001b[0m\n",
      "\u001b[1;31mFileNotFoundError\u001b[0m: [Errno 2] No such file or directory: '点都德/上海.md'"
     ]
    }
   ],
   "source": [
    "import os\n",
    "from selenium import webdriver\n",
    "from selenium.webdriver.common.by import By\n",
    "from selenium.webdriver.chrome.options import Options\n",
    "\n",
    "\n",
    "def getAllArticle():\n",
    "    # chrome_options = Options()\n",
    "    # chrome_options\n",
    "\n",
    "    # browser = webdriver.Chrome()\n",
    "    # browser.get(\n",
    "    #     'https://www.xiaohongshu.com/user/profile/60460e150000000001001ed4')\n",
    "\n",
    "# 定义一个集合用来存储链接\n",
    "# 未登录，只能看到过去30篇笔记\n",
    "    links_set = set()\n",
    "\n",
    "    # 找到 id 为 \"userPostedFeeds\" 的元素\n",
    "    user_posted_feeds = browser.find_element(By.ID, \"userPostedFeeds\")\n",
    "\n",
    " # 等待页面加载完成\n",
    "    browser.implicitly_wait(100)\n",
    "\n",
    "    # 滚动到页面底部，并获取链接\n",
    "    for i in range(40):\n",
    "        # 找到所有以 \"/explore\" 开头的链接\n",
    "        links = user_posted_feeds.find_elements(\n",
    "            By.CSS_SELECTOR, \"a[href^='/user/profile']\")\n",
    "\n",
    "        # 将链接添加到集合中\n",
    "        for link in links:\n",
    "            links_set.add(link.get_attribute(\"href\"))\n",
    "\n",
    "        # 执行滚动操作\n",
    "        browser.execute_script(\n",
    "            \"window.scrollTo(0, document.body.scrollHeight);\")\n",
    "\n",
    "        # 等待页面加载完成\n",
    "        browser.implicitly_wait(10)\n",
    "\n",
    "        # 如果已经滚动到了页面底部，退出循环\n",
    "        if browser.execute_script(\"return window.pageYOffset + window.innerHeight >= document.body.scrollHeight;\"):\n",
    "            break\n",
    "\n",
    "        # 重新获取 id 为 \"userPostedFeeds\" 的元素\n",
    "        user_posted_feeds = browser.find_element(By.ID, \"userPostedFeeds\")\n",
    "\n",
    "    # https://www.xiaohongshu.com/explore/652b48b7000000001f03bed6?xsec_token=ABmeeILZLA2Kz4cDESXC3P9reVGrRWwE1cDWzrkuQmb-M=&xsec_source=pc_user\n",
    "    # 输出去重后的链接\n",
    "    for link in links_set:\n",
    "        print(link)\n",
    "\n",
    "    return links_set\n",
    "\n",
    "\n",
    "def downForArticle(url):\n",
    "    # 创建Chrome浏览器对象\n",
    "    # browser = webdriver.Chrome()\n",
    "    # 加载指定的页面\n",
    "    # 打开页面\n",
    "    browser.get(url)\n",
    "\n",
    "    # 设置隐式等待时间为10秒(第一次时等待10s)\n",
    "    browser.implicitly_wait(10)\n",
    "\n",
    "    # 找到 class 为 \"note-content\" 的元素\n",
    "    note_content = browser.find_elements(By.CSS_SELECTOR, '.note-content')[0]\n",
    "\n",
    "    # 找到 class 为 \"title\" 和 \"desc\" 的子元素\n",
    "    titles = note_content.find_elements(By.CSS_SELECTOR, \".title\")\n",
    "    descs = note_content.find_elements(By.CSS_SELECTOR, \".desc\")\n",
    "\n",
    "    import requests\n",
    "    from PIL import Image\n",
    "    from io import BytesIO\n",
    "\n",
    "    # 找到 class 为 \"note-content\" 的元素\n",
    "    pics = browser.find_elements(By.CSS_SELECTOR, '.swiper-wrapper')[0]\n",
    "\n",
    "    text = pics.get_attribute(\"innerHTML\")\n",
    "\n",
    "    # 使用正则表达式提取内容\n",
    "    import re\n",
    "    result = re.findall(r'url\\(&quot;(.*?)&quot;\\)', text)\n",
    "\n",
    "    # 输出提取的内容\n",
    "    s = \"\"\n",
    "    result = set(result)\n",
    "    for url in result:\n",
    "        # 发送 GET 请求获取图片数据\n",
    "        response = requests.get(url)\n",
    "\n",
    "        # 检查响应状态码\n",
    "        if response.status_code == 200:\n",
    "            # 创建 Image 对象\n",
    "            image = Image.open(BytesIO(response.content))\n",
    "\n",
    "            # 转换为 JPG 格式\n",
    "            image = image.convert(\"RGB\")\n",
    "\n",
    "            # 获取文件名\n",
    "            import uuid\n",
    "            file_name = 'img/' + str(uuid.uuid4()) + \".jpg\"\n",
    "\n",
    "            s += f\"![]({file_name})\\n\"\n",
    "            # 保存图片到本地\n",
    "            image.save(file_name)\n",
    "            print(\"图片保存成功！\")\n",
    "        else:\n",
    "            print(\"图片下载失败！\")\n",
    "\n",
    "    # 构造 Markdown 格式的字符串\n",
    "    markdown = f\"# {titles[0].text}\\n\\n {s} \\n{descs[0].text}\"\n",
    "    # 将字符串写入同目录下的 Markdown 文件\n",
    "    with open(f\"{titles[0].text}.md\", \"w\", encoding=\"utf-8\") as f:\n",
    "        f.write(markdown)\n",
    "\n",
    "\n",
    "# 获取当前文件的路径\n",
    "current_file = 'D:\\my\\ZGarry.github.io\\src\\posts\\打工人手册'\n",
    "\n",
    "# 获取当前文件所在的目录\n",
    "current_directory = os.path.dirname(current_file)\n",
    "\n",
    "# 设置当前工作目录\n",
    "os.chdir(current_directory)\n",
    "\n",
    "# 打印当前工作目录\n",
    "print(\"当前工作目录:\", os.getcwd())\n",
    "\n",
    "\n",
    "li = getAllArticle()\n",
    "# li = []\n",
    "for i in list(li):\n",
    "    try:\n",
    "    downForArticle(i)\n"
   ]
  },
  {
   "cell_type": "code",
   "execution_count": 32,
   "metadata": {},
   "outputs": [],
   "source": [
    "downForArticle('https://www.xiaohongshu.com/user/profile/60460e150000000001001ed4/63f8807f0000000027010b85?xsec_token=ABxnThDVsbjJMu3RVgaSfUWbN9Br8u8e1KODJfMXpgg_Y=&xsec_source=pc_user')"
   ]
  },
  {
   "cell_type": "code",
   "execution_count": null,
   "metadata": {},
   "outputs": [],
   "source": []
  },
  {
   "cell_type": "markdown",
   "metadata": {},
   "source": [
    "\n"
   ]
  },
  {
   "cell_type": "code",
   "execution_count": null,
   "metadata": {},
   "outputs": [],
   "source": []
  }
 ],
 "metadata": {
  "kernelspec": {
   "display_name": "base",
   "language": "python",
   "name": "python3"
  },
  "language_info": {
   "codemirror_mode": {
    "name": "ipython",
    "version": 3
   },
   "file_extension": ".py",
   "mimetype": "text/x-python",
   "name": "python",
   "nbconvert_exporter": "python",
   "pygments_lexer": "ipython3",
   "version": "3.10.14"
  }
 },
 "nbformat": 4,
 "nbformat_minor": 2
}
