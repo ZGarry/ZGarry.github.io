{
 "cells": [
  {
   "cell_type": "code",
   "execution_count": 1,
   "metadata": {},
   "outputs": [],
   "source": [
    "from selenium import webdriver\n",
    "from selenium.webdriver.common.by import By\n"
   ]
  },
  {
   "cell_type": "code",
   "execution_count": 59,
   "metadata": {},
   "outputs": [
    {
     "name": "stdout",
     "output_type": "stream",
     "text": [
      "图片保存成功！\n",
      "图片保存成功！\n",
      "图片保存成功！\n",
      "图片保存成功！\n",
      "图片保存成功！\n",
      "图片保存成功！\n",
      "图片保存成功！\n",
      "图片保存成功！\n",
      "图片保存成功！\n"
     ]
    }
   ],
   "source": [
    "# 创建Chrome浏览器对象\n",
    "browser = webdriver.Chrome()\n",
    "# 加载指定的页面\n",
    "# 打开小红书页面\n",
    "browser.get('https://www.xiaohongshu.com/explore/650d916b000000001e022125')\n",
    "\n",
    "# 设置隐式等待时间为10秒(第一次时等待10s)\n",
    "browser.implicitly_wait(10)\n",
    "\n",
    "# 找到 class 为 \"note-content\" 的元素\n",
    "note_content = browser.find_elements(By.CSS_SELECTOR, '.note-content')[0]\n",
    "\n",
    "# 找到 class 为 \"title\" 和 \"desc\" 的子元素\n",
    "titles = note_content.find_elements(By.CSS_SELECTOR, \".title\")\n",
    "descs = note_content.find_elements(By.CSS_SELECTOR, \".desc\")\n",
    "\n",
    "import requests\n",
    "from PIL import Image\n",
    "from io import BytesIO\n",
    "\n",
    "# 找到 class 为 \"note-content\" 的元素\n",
    "pics = browser.find_elements(By.CSS_SELECTOR, '.swiper-wrapper')[0]\n",
    "\n",
    "text = pics.get_attribute(\"innerHTML\")\n",
    "\n",
    "# 使用正则表达式提取内容\n",
    "result = re.findall(r'url\\(&quot;(.*?)&quot;\\)', text)\n",
    "\n",
    "# 输出提取的内容\n",
    "s = \"\"\n",
    "for url in result:\n",
    "    # 发送 GET 请求获取图片数据\n",
    "    response = requests.get(url)\n",
    "\n",
    "    # 检查响应状态码\n",
    "    if response.status_code == 200:\n",
    "        # 创建 Image 对象\n",
    "        image = Image.open(BytesIO(response.content))\n",
    "\n",
    "        # 转换为 JPG 格式\n",
    "        image = image.convert(\"RGB\")\n",
    "\n",
    "        # 获取文件名\n",
    "        import uuid\n",
    "        file_name = str(uuid.uuid4()) + \".jpg\"\n",
    "        \n",
    "        s += f\"![]({file_name})\\n\"\n",
    "        # 保存图片到本地\n",
    "        image.save(file_name)\n",
    "        print(\"图片保存成功！\")\n",
    "    else:\n",
    "        print(\"图片下载失败！\")\n",
    "\n",
    "# 构造 Markdown 格式的字符串\n",
    "markdown = f\"# {titles[0].text}\\n\\n {s} \\n{descs[0].text}\"\n",
    "# 将字符串写入同目录下的 Markdown 文件\n",
    "with open(f\"{titles[0].text}.md\", \"w\", encoding=\"utf-8\") as f:\n",
    "    f.write(markdown)\n"
   ]
  },
  {
   "cell_type": "code",
   "execution_count": 58,
   "metadata": {},
   "outputs": [
    {
     "data": {
      "text/plain": [
       "['http://sns-webpic-qc.xhscdn.com/202310071341/5eb19273157114e1f686f7b6205b461e/1040g00830pb5rqqp3o105o261oag87mkg7d9418!nd_whgt34_webp_wm_1',\n",
       " 'http://sns-webpic-qc.xhscdn.com/202310071341/bf78a26d148b0047faf52e89f30e7400/1040g00830pb5rqqp3o405o261oag87mk6drajmo!nd_whgt34_webp_wm_1',\n",
       " 'http://sns-webpic-qc.xhscdn.com/202310071341/f974f75299282a7067a3a6138dd231b1/1040g00830pb5rqqp3o305o261oag87mkjbr3ol8!nd_whgt34_webp_wm_1',\n",
       " 'http://sns-webpic-qc.xhscdn.com/202310071341/fa0b1ed157cec8678da05cd4c02ad38d/1040g00830pb5rqqp3o2g5o261oag87mk32usre8!nd_whgt34_webp_wm_1',\n",
       " 'http://sns-webpic-qc.xhscdn.com/202310071341/b3d5dbf2535c6d2151726c395b64be38/1040g00830pb5rqqp3o1g5o261oag87mkbm3m2i8!nd_whgt34_webp_wm_1',\n",
       " 'http://sns-webpic-qc.xhscdn.com/202310071341/2698198d809682d2c266693396d2d7ed/1040g00830pb5rqqp3o3g5o261oag87mk2tkj2rg!nd_whgt34_webp_wm_1',\n",
       " 'http://sns-webpic-qc.xhscdn.com/202310071341/c311d47204e3c6f6223847507816d97c/1040g00830pb5rqqp3o0g5o261oag87mk2gie3tg!nd_whgt34_webp_wm_1',\n",
       " 'http://sns-webpic-qc.xhscdn.com/202310071341/5eb19273157114e1f686f7b6205b461e/1040g00830pb5rqqp3o105o261oag87mkg7d9418!nd_whgt34_webp_wm_1',\n",
       " 'http://sns-webpic-qc.xhscdn.com/202310071341/bf78a26d148b0047faf52e89f30e7400/1040g00830pb5rqqp3o405o261oag87mk6drajmo!nd_whgt34_webp_wm_1']"
      ]
     },
     "execution_count": 58,
     "metadata": {},
     "output_type": "execute_result"
    }
   ],
   "source": [
    "result"
   ]
  },
  {
   "cell_type": "code",
   "execution_count": 44,
   "metadata": {},
   "outputs": [
    {
     "name": "stdout",
     "output_type": "stream",
     "text": [
      "https://www.xiaohongshu.com/explore/651a21ab000000001e00dc58\n",
      "https://www.xiaohongshu.com/explore/64edd9ef000000001d017748\n",
      "https://www.xiaohongshu.com/explore/6507d45e000000001e023943\n",
      "https://www.xiaohongshu.com/explore/6502dd27000000001e00d1b7\n",
      "https://www.xiaohongshu.com/explore/65177d1f000000001e033dd7\n",
      "https://www.xiaohongshu.com/explore/6512af23000000001d0174ff\n",
      "https://www.xiaohongshu.com/explore/64f94f2e000000001e028bee\n",
      "https://www.xiaohongshu.com/explore/6518fcac000000001e030702\n",
      "https://www.xiaohongshu.com/explore/65182f37000000001e02f9d8\n",
      "https://www.xiaohongshu.com/explore/651773d5000000001e03cb0d\n",
      "https://www.xiaohongshu.com/explore/650d916b000000001e022125\n",
      "https://www.xiaohongshu.com/explore/6510e24a000000001e0208ae\n",
      "https://www.xiaohongshu.com/explore/65177088000000001f036364\n",
      "https://www.xiaohongshu.com/explore/650ac985000000001e00cbca\n",
      "https://www.xiaohongshu.com/explore/650eb557000000001e00cf64\n",
      "https://www.xiaohongshu.com/explore/6504b709000000001f004048\n",
      "https://www.xiaohongshu.com/explore/651a19c6000000001e00c54a\n",
      "https://www.xiaohongshu.com/explore/651a1ef5000000001d015a41\n",
      "https://www.xiaohongshu.com/explore/65005284000000001e00c3ed\n",
      "https://www.xiaohongshu.com/explore/651831aa000000001e00d812\n",
      "https://www.xiaohongshu.com/explore/6513c1b3000000001f034b05\n",
      "https://www.xiaohongshu.com/explore/65163b17000000001f03d94c\n",
      "https://www.xiaohongshu.com/explore/651115fc000000001e022218\n",
      "https://www.xiaohongshu.com/explore/650bc7ba000000001e02b1dc\n",
      "https://www.xiaohongshu.com/explore/651c7d46000000001e02db26\n",
      "https://www.xiaohongshu.com/explore/650ac722000000001e00c7fe\n",
      "https://www.xiaohongshu.com/explore/6510e031000000001d016d39\n",
      "https://www.xiaohongshu.com/explore/6501a18a000000001d016154\n",
      "https://www.xiaohongshu.com/explore/650051ce000000001f006a63\n",
      "https://www.xiaohongshu.com/explore/6506e4cd000000001d017371\n"
     ]
    }
   ],
   "source": [
    "## 获取个人的所有链接\n",
    "browser = webdriver.Chrome()\n",
    "browser.get('https://www.xiaohongshu.com/user/profile/60460e150000000001001ed4')\n",
    "\n",
    "# 定义一个集合用来存储链接\n",
    "# 未登录，只能看到过去30篇笔记\n",
    "links_set = set()\n",
    "\n",
    "# 找到 id 为 \"userPostedFeeds\" 的元素\n",
    "user_posted_feeds = browser.find_element(By.ID,\"userPostedFeeds\")\n",
    "\n",
    "# 滚动到页面底部，并获取链接\n",
    "for i in range(10):\n",
    "    # 找到所有以 \"/explore\" 开头的链接\n",
    "    links = user_posted_feeds.find_elements(By.CSS_SELECTOR,\"a[href^='/explore']\")\n",
    "\n",
    "    # 将链接添加到集合中\n",
    "    for link in links:\n",
    "        links_set.add(link.get_attribute(\"href\"))\n",
    "\n",
    "    # 执行滚动操作\n",
    "    browser.execute_script(\"window.scrollTo(0, document.body.scrollHeight);\")\n",
    "\n",
    "    # 等待页面加载完成\n",
    "    browser.implicitly_wait(10)\n",
    "\n",
    "    # 如果已经滚动到了页面底部，退出循环\n",
    "    if browser.execute_script(\"return window.pageYOffset + window.innerHeight >= document.body.scrollHeight;\"):\n",
    "        break\n",
    "\n",
    "    # 重新获取 id 为 \"userPostedFeeds\" 的元素\n",
    "    user_posted_feeds = browser.find_element(By.ID,\"userPostedFeeds\")\n",
    "\n",
    "# 输出去重后的链接\n",
    "for link in links_set:\n",
    "    print(link)\n",
    "\n",
    "# 额外补充几篇文章\n",
    "links_set.add(\"https://www.xiaohongshu.com/user/profile/60460e150000000001001ed4/64e6e0bd0000000003020534\")\n",
    "links_set.add(\"https://www.xiaohongshu.com/user/profile/60460e150000000001001ed4/64e62280000000000301de24\")\n",
    "links_set.add(\"https://www.xiaohongshu.com/user/profile/60460e150000000001001ed4/64df35a0000000001201ce1c\")\n",
    "links_set.add(\"https://www.xiaohongshu.com/user/profile/60460e150000000001001ed4/64d1cb75000000000b02ad20\")\n",
    "links_set.add(\"https://www.xiaohongshu.com/explore/64d084f7000000000c0361a7\")"
   ]
  },
  {
   "cell_type": "code",
   "execution_count": 2,
   "metadata": {},
   "outputs": [],
   "source": [
    "import os\n",
    "import re\n",
    "\n",
    "def replace_title_with_filename(file_path):\n",
    "    with open(file_path, 'r', encoding='utf-8') as file:\n",
    "        content = file.read()\n",
    "        # 使用正则表达式查找标题\n",
    "        match = re.search(r'# (.+)', content)\n",
    "        if match:\n",
    "            title = match.group(1)\n",
    "            # 替换标题为文件名\n",
    "            new_content = re.sub(r'# (.+)', f'# {os.path.splitext(os.path.basename(file_path))[0]}', content)\n",
    "            # 将替换后的内容写回文件\n",
    "            with open(file_path, 'w', encoding='utf-8') as new_file:\n",
    "                new_file.write(new_content)\n",
    "\n",
    "# 获取当前目录下所有Markdown文件\n",
    "markdown_files = [file for file in os.listdir('.') if file.endswith('.md')]\n",
    "\n",
    "# 遍历所有Markdown文件并替换标题\n",
    "for file in markdown_files:\n",
    "    replace_title_with_filename(file)\n"
   ]
  },
  {
   "cell_type": "code",
   "execution_count": 4,
   "metadata": {},
   "outputs": [
    {
     "ename": "InvalidGitRepositoryError",
     "evalue": "c:\\temp\\code\\ZGarry.github.io\\src\\posts\\打工人手册",
     "output_type": "error",
     "traceback": [
      "\u001b[1;31m---------------------------------------------------------------------------\u001b[0m",
      "\u001b[1;31mInvalidGitRepositoryError\u001b[0m                 Traceback (most recent call last)",
      "\u001b[1;32mc:\\temp\\code\\ZGarry.github.io\\src\\posts\\打工人手册\\小红书网页.ipynb Cell 6\u001b[0m line \u001b[0;36m2\n\u001b[0;32m      <a href='vscode-notebook-cell:/c%3A/temp/code/ZGarry.github.io/src/posts/%E6%89%93%E5%B7%A5%E4%BA%BA%E6%89%8B%E5%86%8C/%E5%B0%8F%E7%BA%A2%E4%B9%A6%E7%BD%91%E9%A1%B5.ipynb#W5sZmlsZQ%3D%3D?line=0'>1</a>\u001b[0m \u001b[39mimport\u001b[39;00m \u001b[39mgit\u001b[39;00m\n\u001b[1;32m----> <a href='vscode-notebook-cell:/c%3A/temp/code/ZGarry.github.io/src/posts/%E6%89%93%E5%B7%A5%E4%BA%BA%E6%89%8B%E5%86%8C/%E5%B0%8F%E7%BA%A2%E4%B9%A6%E7%BD%91%E9%A1%B5.ipynb#W5sZmlsZQ%3D%3D?line=1'>2</a>\u001b[0m repo \u001b[39m=\u001b[39m git\u001b[39m.\u001b[39;49mRepo(\u001b[39m'\u001b[39;49m\u001b[39m.\u001b[39;49m\u001b[39m'\u001b[39;49m)\n\u001b[0;32m      <a href='vscode-notebook-cell:/c%3A/temp/code/ZGarry.github.io/src/posts/%E6%89%93%E5%B7%A5%E4%BA%BA%E6%89%8B%E5%86%8C/%E5%B0%8F%E7%BA%A2%E4%B9%A6%E7%BD%91%E9%A1%B5.ipynb#W5sZmlsZQ%3D%3D?line=3'>4</a>\u001b[0m \u001b[39m# 添加所有修改的文件到暂存区\u001b[39;00m\n\u001b[0;32m      <a href='vscode-notebook-cell:/c%3A/temp/code/ZGarry.github.io/src/posts/%E6%89%93%E5%B7%A5%E4%BA%BA%E6%89%8B%E5%86%8C/%E5%B0%8F%E7%BA%A2%E4%B9%A6%E7%BD%91%E9%A1%B5.ipynb#W5sZmlsZQ%3D%3D?line=4'>5</a>\u001b[0m repo\u001b[39m.\u001b[39mgit\u001b[39m.\u001b[39madd(\u001b[39m'\u001b[39m\u001b[39m--all\u001b[39m\u001b[39m'\u001b[39m)\n",
      "File \u001b[1;32mc:\\Users\\11605\\AppData\\Local\\Programs\\Python\\Python312\\Lib\\site-packages\\git\\repo\\base.py:267\u001b[0m, in \u001b[0;36mRepo.__init__\u001b[1;34m(self, path, odbt, search_parent_directories, expand_vars)\u001b[0m\n\u001b[0;32m    264\u001b[0m \u001b[39m# END while curpath\u001b[39;00m\n\u001b[0;32m    266\u001b[0m \u001b[39mif\u001b[39;00m git_dir \u001b[39mis\u001b[39;00m \u001b[39mNone\u001b[39;00m:\n\u001b[1;32m--> 267\u001b[0m     \u001b[39mraise\u001b[39;00m InvalidGitRepositoryError(epath)\n\u001b[0;32m    268\u001b[0m \u001b[39mself\u001b[39m\u001b[39m.\u001b[39mgit_dir \u001b[39m=\u001b[39m git_dir\n\u001b[0;32m    270\u001b[0m \u001b[39mself\u001b[39m\u001b[39m.\u001b[39m_bare \u001b[39m=\u001b[39m \u001b[39mFalse\u001b[39;00m\n",
      "\u001b[1;31mInvalidGitRepositoryError\u001b[0m: c:\\temp\\code\\ZGarry.github.io\\src\\posts\\打工人手册"
     ]
    }
   ],
   "source": []
  }
 ],
 "metadata": {
  "kernelspec": {
   "display_name": "base",
   "language": "python",
   "name": "python3"
  },
  "language_info": {
   "codemirror_mode": {
    "name": "ipython",
    "version": 3
   },
   "file_extension": ".py",
   "mimetype": "text/x-python",
   "name": "python",
   "nbconvert_exporter": "python",
   "pygments_lexer": "ipython3",
   "version": "3.12.0"
  }
 },
 "nbformat": 4,
 "nbformat_minor": 2
}
