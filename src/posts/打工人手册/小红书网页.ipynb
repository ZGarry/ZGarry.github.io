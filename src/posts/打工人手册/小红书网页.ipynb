{
 "cells": [
  {
   "cell_type": "code",
   "execution_count": 1,
   "metadata": {},
   "outputs": [],
   "source": [
    "from selenium import webdriver\n",
    "from selenium.webdriver.common.by import By\n"
   ]
  },
  {
   "cell_type": "code",
   "execution_count": 59,
   "metadata": {},
   "outputs": [
    {
     "name": "stdout",
     "output_type": "stream",
     "text": [
      "图片保存成功！\n",
      "图片保存成功！\n",
      "图片保存成功！\n",
      "图片保存成功！\n",
      "图片保存成功！\n",
      "图片保存成功！\n",
      "图片保存成功！\n",
      "图片保存成功！\n",
      "图片保存成功！\n"
     ]
    }
   ],
   "source": [
    "# 创建Chrome浏览器对象\n",
    "browser = webdriver.Chrome()\n",
    "# 加载指定的页面\n",
    "# 打开小红书页面\n",
    "browser.get('https://www.xiaohongshu.com/explore/650d916b000000001e022125')\n",
    "\n",
    "# 设置隐式等待时间为10秒(第一次时等待10s)\n",
    "browser.implicitly_wait(10)\n",
    "\n",
    "# 找到 class 为 \"note-content\" 的元素\n",
    "note_content = browser.find_elements(By.CSS_SELECTOR, '.note-content')[0]\n",
    "\n",
    "# 找到 class 为 \"title\" 和 \"desc\" 的子元素\n",
    "titles = note_content.find_elements(By.CSS_SELECTOR, \".title\")\n",
    "descs = note_content.find_elements(By.CSS_SELECTOR, \".desc\")\n",
    "\n",
    "import requests\n",
    "from PIL import Image\n",
    "from io import BytesIO\n",
    "\n",
    "# 找到 class 为 \"note-content\" 的元素\n",
    "pics = browser.find_elements(By.CSS_SELECTOR, '.swiper-wrapper')[0]\n",
    "\n",
    "text = pics.get_attribute(\"innerHTML\")\n",
    "\n",
    "# 使用正则表达式提取内容\n",
    "result = re.findall(r'url\\(&quot;(.*?)&quot;\\)', text)\n",
    "\n",
    "# 输出提取的内容\n",
    "s = \"\"\n",
    "for url in result:\n",
    "    # 发送 GET 请求获取图片数据\n",
    "    response = requests.get(url)\n",
    "\n",
    "    # 检查响应状态码\n",
    "    if response.status_code == 200:\n",
    "        # 创建 Image 对象\n",
    "        image = Image.open(BytesIO(response.content))\n",
    "\n",
    "        # 转换为 JPG 格式\n",
    "        image = image.convert(\"RGB\")\n",
    "\n",
    "        # 获取文件名\n",
    "        import uuid\n",
    "        file_name = str(uuid.uuid4()) + \".jpg\"\n",
    "        \n",
    "        s += f\"![]({file_name})\\n\"\n",
    "        # 保存图片到本地\n",
    "        image.save(file_name)\n",
    "        print(\"图片保存成功！\")\n",
    "    else:\n",
    "        print(\"图片下载失败！\")\n",
    "\n",
    "# 构造 Markdown 格式的字符串\n",
    "markdown = f\"# {titles[0].text}\\n\\n {s} \\n{descs[0].text}\"\n",
    "# 将字符串写入同目录下的 Markdown 文件\n",
    "with open(f\"{titles[0].text}.md\", \"w\", encoding=\"utf-8\") as f:\n",
    "    f.write(markdown)\n"
   ]
  },
  {
   "cell_type": "code",
   "execution_count": 58,
   "metadata": {},
   "outputs": [
    {
     "data": {
      "text/plain": [
       "['http://sns-webpic-qc.xhscdn.com/202310071341/5eb19273157114e1f686f7b6205b461e/1040g00830pb5rqqp3o105o261oag87mkg7d9418!nd_whgt34_webp_wm_1',\n",
       " 'http://sns-webpic-qc.xhscdn.com/202310071341/bf78a26d148b0047faf52e89f30e7400/1040g00830pb5rqqp3o405o261oag87mk6drajmo!nd_whgt34_webp_wm_1',\n",
       " 'http://sns-webpic-qc.xhscdn.com/202310071341/f974f75299282a7067a3a6138dd231b1/1040g00830pb5rqqp3o305o261oag87mkjbr3ol8!nd_whgt34_webp_wm_1',\n",
       " 'http://sns-webpic-qc.xhscdn.com/202310071341/fa0b1ed157cec8678da05cd4c02ad38d/1040g00830pb5rqqp3o2g5o261oag87mk32usre8!nd_whgt34_webp_wm_1',\n",
       " 'http://sns-webpic-qc.xhscdn.com/202310071341/b3d5dbf2535c6d2151726c395b64be38/1040g00830pb5rqqp3o1g5o261oag87mkbm3m2i8!nd_whgt34_webp_wm_1',\n",
       " 'http://sns-webpic-qc.xhscdn.com/202310071341/2698198d809682d2c266693396d2d7ed/1040g00830pb5rqqp3o3g5o261oag87mk2tkj2rg!nd_whgt34_webp_wm_1',\n",
       " 'http://sns-webpic-qc.xhscdn.com/202310071341/c311d47204e3c6f6223847507816d97c/1040g00830pb5rqqp3o0g5o261oag87mk2gie3tg!nd_whgt34_webp_wm_1',\n",
       " 'http://sns-webpic-qc.xhscdn.com/202310071341/5eb19273157114e1f686f7b6205b461e/1040g00830pb5rqqp3o105o261oag87mkg7d9418!nd_whgt34_webp_wm_1',\n",
       " 'http://sns-webpic-qc.xhscdn.com/202310071341/bf78a26d148b0047faf52e89f30e7400/1040g00830pb5rqqp3o405o261oag87mk6drajmo!nd_whgt34_webp_wm_1']"
      ]
     },
     "execution_count": 58,
     "metadata": {},
     "output_type": "execute_result"
    }
   ],
   "source": [
    "result"
   ]
  },
  {
   "cell_type": "code",
   "execution_count": 44,
   "metadata": {},
   "outputs": [
    {
     "name": "stdout",
     "output_type": "stream",
     "text": [
      "https://www.xiaohongshu.com/explore/651a21ab000000001e00dc58\n",
      "https://www.xiaohongshu.com/explore/64edd9ef000000001d017748\n",
      "https://www.xiaohongshu.com/explore/6507d45e000000001e023943\n",
      "https://www.xiaohongshu.com/explore/6502dd27000000001e00d1b7\n",
      "https://www.xiaohongshu.com/explore/65177d1f000000001e033dd7\n",
      "https://www.xiaohongshu.com/explore/6512af23000000001d0174ff\n",
      "https://www.xiaohongshu.com/explore/64f94f2e000000001e028bee\n",
      "https://www.xiaohongshu.com/explore/6518fcac000000001e030702\n",
      "https://www.xiaohongshu.com/explore/65182f37000000001e02f9d8\n",
      "https://www.xiaohongshu.com/explore/651773d5000000001e03cb0d\n",
      "https://www.xiaohongshu.com/explore/650d916b000000001e022125\n",
      "https://www.xiaohongshu.com/explore/6510e24a000000001e0208ae\n",
      "https://www.xiaohongshu.com/explore/65177088000000001f036364\n",
      "https://www.xiaohongshu.com/explore/650ac985000000001e00cbca\n",
      "https://www.xiaohongshu.com/explore/650eb557000000001e00cf64\n",
      "https://www.xiaohongshu.com/explore/6504b709000000001f004048\n",
      "https://www.xiaohongshu.com/explore/651a19c6000000001e00c54a\n",
      "https://www.xiaohongshu.com/explore/651a1ef5000000001d015a41\n",
      "https://www.xiaohongshu.com/explore/65005284000000001e00c3ed\n",
      "https://www.xiaohongshu.com/explore/651831aa000000001e00d812\n",
      "https://www.xiaohongshu.com/explore/6513c1b3000000001f034b05\n",
      "https://www.xiaohongshu.com/explore/65163b17000000001f03d94c\n",
      "https://www.xiaohongshu.com/explore/651115fc000000001e022218\n",
      "https://www.xiaohongshu.com/explore/650bc7ba000000001e02b1dc\n",
      "https://www.xiaohongshu.com/explore/651c7d46000000001e02db26\n",
      "https://www.xiaohongshu.com/explore/650ac722000000001e00c7fe\n",
      "https://www.xiaohongshu.com/explore/6510e031000000001d016d39\n",
      "https://www.xiaohongshu.com/explore/6501a18a000000001d016154\n",
      "https://www.xiaohongshu.com/explore/650051ce000000001f006a63\n",
      "https://www.xiaohongshu.com/explore/6506e4cd000000001d017371\n"
     ]
    }
   ],
   "source": [
    "## 获取个人的所有链接\n",
    "browser = webdriver.Chrome()\n",
    "browser.get('https://www.xiaohongshu.com/user/profile/60460e150000000001001ed4')\n",
    "\n",
    "# 定义一个集合用来存储链接\n",
    "# 未登录，只能看到过去30篇笔记\n",
    "links_set = set()\n",
    "\n",
    "# 找到 id 为 \"userPostedFeeds\" 的元素\n",
    "user_posted_feeds = browser.find_element(By.ID,\"userPostedFeeds\")\n",
    "\n",
    "# 滚动到页面底部，并获取链接\n",
    "for i in range(10):\n",
    "    # 找到所有以 \"/explore\" 开头的链接\n",
    "    links = user_posted_feeds.find_elements(By.CSS_SELECTOR,\"a[href^='/explore']\")\n",
    "\n",
    "    # 将链接添加到集合中\n",
    "    for link in links:\n",
    "        links_set.add(link.get_attribute(\"href\"))\n",
    "\n",
    "    # 执行滚动操作\n",
    "    browser.execute_script(\"window.scrollTo(0, document.body.scrollHeight);\")\n",
    "\n",
    "    # 等待页面加载完成\n",
    "    browser.implicitly_wait(10)\n",
    "\n",
    "    # 如果已经滚动到了页面底部，退出循环\n",
    "    if browser.execute_script(\"return window.pageYOffset + window.innerHeight >= document.body.scrollHeight;\"):\n",
    "        break\n",
    "\n",
    "    # 重新获取 id 为 \"userPostedFeeds\" 的元素\n",
    "    user_posted_feeds = browser.find_element(By.ID,\"userPostedFeeds\")\n",
    "\n",
    "# 输出去重后的链接\n",
    "for link in links_set:\n",
    "    print(link)\n",
    "\n",
    "# 额外补充几篇文章\n",
    "links_set.add(\"https://www.xiaohongshu.com/user/profile/60460e150000000001001ed4/64e6e0bd0000000003020534\")\n",
    "links_set.add(\"https://www.xiaohongshu.com/user/profile/60460e150000000001001ed4/64e62280000000000301de24\")\n",
    "links_set.add(\"https://www.xiaohongshu.com/user/profile/60460e150000000001001ed4/64df35a0000000001201ce1c\")\n",
    "links_set.add(\"https://www.xiaohongshu.com/user/profile/60460e150000000001001ed4/64d1cb75000000000b02ad20\")\n",
    "links_set.add(\"https://www.xiaohongshu.com/explore/64d084f7000000000c0361a7\")"
   ]
  }
 ],
 "metadata": {
  "kernelspec": {
   "display_name": "base",
   "language": "python",
   "name": "python3"
  },
  "language_info": {
   "codemirror_mode": {
    "name": "ipython",
    "version": 3
   },
   "file_extension": ".py",
   "mimetype": "text/x-python",
   "name": "python",
   "nbconvert_exporter": "python",
   "pygments_lexer": "ipython3",
   "version": "3.10.9"
  }
 },
 "nbformat": 4,
 "nbformat_minor": 2
}
